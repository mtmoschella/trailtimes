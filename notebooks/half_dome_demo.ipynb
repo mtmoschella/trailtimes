{
 "cells": [
  {
   "cell_type": "code",
   "execution_count": 1,
   "metadata": {},
   "outputs": [],
   "source": [
    "import numpy as np\n",
    "import pandas as pd\n",
    "import matplotlib.pyplot as plt"
   ]
  },
  {
   "cell_type": "markdown",
   "metadata": {},
   "source": [
    "# Load Data from Green Mountain West Trail"
   ]
  },
  {
   "cell_type": "code",
   "execution_count": 2,
   "metadata": {},
   "outputs": [
    {
     "name": "stdout",
     "output_type": "stream",
     "text": [
      "Title: Half Dome Trail - California\n",
      "Distance: 15.0 miles\n",
      "Elevation Gain: 5206.0 feet\n",
      "URL: https://www.alltrails.com/trail/us/california/half-dome-trail\n"
     ]
    }
   ],
   "source": [
    "datadir = '../data/half-dome-trail/'\n",
    "datafile = datadir + 'half-dome-trail.csv'\n",
    "metafile = datadir + 'half-dome-trail_metadata.csv'\n",
    "\n",
    "data = pd.read_csv(datafile)\n",
    "meta = pd.read_csv(metafile)\n",
    "\n",
    "print(\"Title: \"+meta['Title'][0])\n",
    "print(\"Distance: \"+str(meta['Distance (mi)'][0]) + ' miles')\n",
    "print(\"Elevation Gain: \"+str(meta['Elevation Gain (ft)'][0])+\" feet\")\n",
    "print(\"URL: https://www.alltrails.com/trail/us/california/half-dome-trail\")"
   ]
  },
  {
   "cell_type": "markdown",
   "metadata": {},
   "source": [
    "# Clean Data\n",
    "Users can upload routes that do not exactly match the route described on the main page. This leads to outliers in the data. To filter out these outliers, I require that the recorded distance for each user activity is within 10% of the total distance on the route."
   ]
  },
  {
   "cell_type": "code",
   "execution_count": 3,
   "metadata": {},
   "outputs": [
    {
     "name": "stdout",
     "output_type": "stream",
     "text": [
      "Found 386 clean rows out of 870\n"
     ]
    },
    {
     "data": {
      "image/png": "[encoded data removed]",
      "text/plain": [
       "<Figure size 432x288 with 1 Axes>"
      ]
     },
     "metadata": {
      "needs_background": "light"
     },
     "output_type": "display_data"
    }
   ],
   "source": [
    "distances = np.array(data['Distance (mi)'])\n",
    "distance_ref = np.array(meta['Distance (mi)'])[0]\n",
    "\n",
    "clean = np.absolute(distances-distance_ref)/distance_ref < 0.2 # require distance within 10% of quoted reference\n",
    "\n",
    "print(\"Found \"+str(np.count_nonzero(clean))+\" clean rows out of \"+str(len(clean)))\n",
    "\n",
    "color = 'cornflowerblue'\n",
    "plt.figure()\n",
    "plt.hist(distances[clean], color=color, histtype='step', lw=2, bins=40)\n",
    "plt.axvline(distance_ref, color='red')\n",
    "plt.title(\"Cleaned Data\")\n",
    "plt.xlabel('Distance (mi)')\n",
    "plt.ylabel('Entries per Bin')\n",
    "plt.show()"
   ]
  },
  {
   "cell_type": "markdown",
   "metadata": {},
   "source": [
    "# Plot Distribution of Times"
   ]
  },
  {
   "cell_type": "markdown",
   "metadata": {},
   "source": [
    "## Total Elapsed Time"
   ]
  },
  {
   "cell_type": "code",
   "execution_count": 4,
   "metadata": {},
   "outputs": [
    {
     "name": "stdout",
     "output_type": "stream",
     "text": [
      "Fastest Time: 0.0 hrs\n",
      "Typical Time: 11.06 +/- 2.36 hrs\n",
      "Slowest Time: 16.66 hrs\n"
     ]
    },
    {
     "data": {
      "image/png": "[encoded data removed]",
      "text/plain": [
       "<Figure size 432x288 with 1 Axes>"
      ]
     },
     "metadata": {
      "needs_background": "light"
     },
     "output_type": "display_data"
    }
   ],
   "source": [
    "total = np.array(data['Total Time (s)'])/(60.*60.) # in hours\n",
    "\n",
    "tlower, tmedian, tupper = np.percentile(total[clean], [16, 50, 84])\n",
    "\n",
    "print(\"Fastest Time: \"+str(round(np.amin(total[clean]), 2))+\" hrs\")\n",
    "print(\"Typical Time: \"+str(round(tmedian, 2))+\" +/- \"+str(round(np.std(total[clean]),2))+ \" hrs\")\n",
    "print(\"Slowest Time: \"+str(round(np.amax(total[clean]), 2))+\" hrs\")\n",
    "\n",
    "color = 'cornflowerblue'\n",
    "plt.figure()\n",
    "plt.hist(total[clean], bins=40, color=color, lw=2, histtype='step', label='Total Time')\n",
    "plt.axvline(tmedian, color=color)\n",
    "plt.axvspan(tlower, tupper, color=color, alpha=0.2)\n",
    "plt.xlabel('Total Elapsed Time (hr)')\n",
    "plt.ylabel('Entries per Bin')\n",
    "plt.show()"
   ]
  },
  {
   "cell_type": "markdown",
   "metadata": {},
   "source": [
    "## Moving Time"
   ]
  },
  {
   "cell_type": "code",
   "execution_count": 5,
   "metadata": {},
   "outputs": [
    {
     "name": "stdout",
     "output_type": "stream",
     "text": [
      "Fastest Time: 0.0 hrs\n",
      "Typical Time: 8.26 +/- 1.75 hrs\n",
      "Slowest Time: 12.05 hrs\n"
     ]
    },
    {
     "data": {
      "image/png": "[encoded data removed]",
      "text/plain": [
       "<Figure size 432x288 with 1 Axes>"
      ]
     },
     "metadata": {
      "needs_background": "light"
     },
     "output_type": "display_data"
    }
   ],
   "source": [
    "moving = np.array(data['Moving Time (s)'])/(60.*60.) # in hours\n",
    "\n",
    "tlower, tmedian, tupper = np.percentile(moving[clean], [16, 50, 84])\n",
    "\n",
    "print(\"Fastest Time: \"+str(round(np.amin(moving[clean]), 2))+\" hrs\")\n",
    "print(\"Typical Time: \"+str(round(tmedian, 2))+\" +/- \"+str(round(np.std(moving[clean]),2))+ \" hrs\")\n",
    "print(\"Slowest Time: \"+str(round(np.amax(moving[clean]), 2))+\" hrs\")\n",
    "\n",
    "color = 'cornflowerblue'\n",
    "plt.figure()\n",
    "plt.hist(moving[clean], bins=40, color=color, lw=2, histtype='step', label='Total Time')\n",
    "plt.axvline(tmedian, color=color)\n",
    "plt.axvspan(tlower, tupper, color=color, alpha=0.2)\n",
    "plt.xlabel('Moving Time (hr)')\n",
    "plt.ylabel('Entries per Bin')\n",
    "plt.show()"
   ]
  }
 ],
 "metadata": {
  "kernelspec": {
   "display_name": "Python 3",
   "language": "python",
   "name": "python3"
  },
  "language_info": {
   "codemirror_mode": {
    "name": "ipython",
    "version": 3
   },
   "file_extension": ".py",
   "mimetype": "text/x-python",
   "name": "python",
   "nbconvert_exporter": "python",
   "pygments_lexer": "ipython3",
   "version": "3.8.5"
  }
 },
 "nbformat": 4,
 "nbformat_minor": 4
}
